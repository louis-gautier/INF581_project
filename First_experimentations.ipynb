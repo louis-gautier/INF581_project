{
  "cells": [
    {
      "cell_type": "code",
      "execution_count": 1,
      "metadata": {
        "colab": {
          "base_uri": "https://localhost:8080/"
        },
        "id": "-W6pdFHN8fJz",
        "outputId": "7a6c91ce-98ed-4b7e-d3b1-ef07ef6d5e42"
      },
      "outputs": [
        {
          "name": "stderr",
          "output_type": "stream",
          "text": [
            "script.sh: line 1: pip: command not found\n",
            "script.sh: line 2: pip: command not found\n",
            "script.sh: line 3: pip: command not found\n",
            "script.sh: line 4: pip: command not found\n",
            "script.sh: line 5: pip: command not found\n",
            "script.sh: line 6: pip: command not found\n",
            "script.sh: line 7: pip: command not found\n",
            "script.sh: line 8: pip: command not found\n",
            "script.sh: line 9: apt: command not found\n",
            "script.sh: line 10: apt: command not found\n"
          ]
        }
      ],
      "source": [
        "python_libraries = [\"numpy\",\"pandas\",\"gym\",\"seaborn\",\"pyvirtualdisplay\",\"imageio\",\"nnfigs\",\"box2d-py\"]\n",
        "\n",
        "packages = [\"xvfb\",\"x11-utils\"]\n",
        "\n",
        "with open('script.sh', 'w') as file:\n",
        "  for library in python_libraries:\n",
        "    file.write(\"pip install \" + library +\"\\n\")\n",
        "  for package in packages:\n",
        "    file.write(\"apt install \" + package +\"\\n\")\n",
        "\n",
        "!bash script.sh"
      ]
    },
    {
      "cell_type": "code",
      "execution_count": 2,
      "metadata": {
        "id": "kVMo4E0o8UmO"
      },
      "outputs": [],
      "source": [
        "import gym\n",
        "import numpy as np\n",
        "from scipy.special import softmax\n",
        "%matplotlib inline\n",
        "import matplotlib\n",
        "import matplotlib.pyplot as plt\n",
        "import math\n",
        "import gym\n",
        "import numpy as np\n",
        "import copy\n",
        "import pandas as pd\n",
        "import seaborn as sns\n",
        "import time\n",
        "import imageio\n",
        "import IPython\n",
        "from IPython.display import Image\n",
        "import pyvirtualdisplay\n",
        "\n",
        "_display = pyvirtualdisplay.Display(visible=False, size=(1400, 900))\n",
        "_ = _display.start()"
      ]
    },
    {
      "cell_type": "code",
      "execution_count": null,
      "metadata": {
        "id": "a1mLyb7u8UmL"
      },
      "outputs": [],
      "source": [
        "class RenderWrapper:\n",
        "    def __init__(self, env):\n",
        "        self.env = env\n",
        "        self.reset()\n",
        "\n",
        "    def reset(self):\n",
        "        self.images = []\n",
        "\n",
        "    def render(self):\n",
        "        img = self.env.render(mode='rgb_array')\n",
        "        self.images.append(img)\n",
        "\n",
        "    def make_gif(self, filename=\"render_\"+str(time.time())+\".gif\"):\n",
        "        imageio.mimsave(filename + '.gif', [np.array(img) for i, img in enumerate(self.images) if i%2 == 0], fps=29)\n",
        "        return Image(open(filename + '.gif','rb').read())\n",
        "\n",
        "    @classmethod\n",
        "    def register(cls, env):\n",
        "        env.render_wrapper = cls(env)"
      ]
    },
    {
      "cell_type": "code",
      "execution_count": null,
      "metadata": {
        "id": "t0KT5uw68UmQ"
      },
      "outputs": [],
      "source": [
        "class Agent():\n",
        "    \n",
        "    def __init__(self, params):\n",
        "        \n",
        "        init\n",
        "\n",
        "    # Autres méthodes de classes\n",
        "    \n",
        "    def act(self, state):\n",
        "        return #actions\n",
        "\n",
        "        \n",
        "    def evaluate(self, env):\n",
        "        # update score function\n",
        "        return"
      ]
    },
    {
      "cell_type": "code",
      "execution_count": null,
      "metadata": {
        "colab": {
          "base_uri": "https://localhost:8080/"
        },
        "id": "or0kHavJ8UmS",
        "outputId": "811db605-3a36-40fe-c552-0b5ea0dc8e2e"
      },
      "outputs": [
        {
          "name": "stderr",
          "output_type": "stream",
          "text": [
            "/Users/utilisateur/opt/anaconda3/lib/python3.7/site-packages/gym/logger.py:30: UserWarning: \u001b[33mWARN: Box bound precision lowered by casting to float32\u001b[0m\n",
            "  warnings.warn(colorize('%s: %s'%('WARN', msg % args), 'yellow'))\n"
          ]
        }
      ],
      "source": [
        "env = gym.make('BipedalWalker-v3')\n"
      ]
    }
  ],
  "metadata": {
    "colab": {
      "collapsed_sections": [],
      "name": "First_experimentations.ipynb",
      "provenance": []
    },
    "kernelspec": {
      "display_name": "Python 3",
      "language": "python",
      "name": "python3"
    },
    "language_info": {
      "codemirror_mode": {
        "name": "ipython",
        "version": 3
      },
      "file_extension": ".py",
      "mimetype": "text/x-python",
      "name": "python",
      "nbconvert_exporter": "python",
      "pygments_lexer": "ipython3",
      "version": "3.9.7"
    }
  },
  "nbformat": 4,
  "nbformat_minor": 0
}
